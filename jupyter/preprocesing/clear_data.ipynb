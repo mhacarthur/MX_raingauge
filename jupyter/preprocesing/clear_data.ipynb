{
 "cells": [
  {
   "cell_type": "code",
   "execution_count": 1,
   "id": "b1d51940",
   "metadata": {},
   "outputs": [],
   "source": [
    "import io\n",
    "import os\n",
    "import glob\n",
    "import numpy as np\n",
    "import pandas as pd"
   ]
  },
  {
   "cell_type": "code",
   "execution_count": 2,
   "id": "9abf76b7",
   "metadata": {},
   "outputs": [],
   "source": [
    "dir_base = os.path.join('/','media','arturo','Arturo','Data','Mexico','data')"
   ]
  },
  {
   "cell_type": "code",
   "execution_count": 3,
   "id": "c3e2a67c",
   "metadata": {},
   "outputs": [
    {
     "name": "stdout",
     "output_type": "stream",
     "text": [
      "Number of directories: 30\n"
     ]
    }
   ],
   "source": [
    "list_dir = [d for d in os.listdir(os.path.join(dir_base,'raw')) if os.path.isdir(os.path.join(os.path.join(dir_base,'raw'), d))]\n",
    "list_dir = sorted(list_dir)\n",
    "len_dir = len(list_dir)\n",
    "print(f'Number of directories: {len_dir}')"
   ]
  },
  {
   "cell_type": "code",
   "execution_count": 4,
   "id": "f5e16fc4",
   "metadata": {},
   "outputs": [
    {
     "name": "stdout",
     "output_type": "stream",
     "text": [
      "Aguas Calientes has 59 stations\n",
      "Baja California has 66 stations\n"
     ]
    },
    {
     "name": "stderr",
     "output_type": "stream",
     "text": [
      "/tmp/ipykernel_18215/3148789802.py:40: FutureWarning: Downcasting behavior in `replace` is deprecated and will be removed in a future version. To retain the old behavior, explicitly call `result.infer_objects(copy=False)`. To opt-in to the future behavior, set `pd.set_option('future.no_silent_downcasting', True)`\n",
      "  df[['PRECIP', 'EVAP', 'TMAX', 'TMIN']] = df[['PRECIP', 'EVAP', 'TMAX', 'TMIN']].replace('NULO', np.nan)\n",
      "/tmp/ipykernel_18215/3148789802.py:40: FutureWarning: Downcasting behavior in `replace` is deprecated and will be removed in a future version. To retain the old behavior, explicitly call `result.infer_objects(copy=False)`. To opt-in to the future behavior, set `pd.set_option('future.no_silent_downcasting', True)`\n",
      "  df[['PRECIP', 'EVAP', 'TMAX', 'TMIN']] = df[['PRECIP', 'EVAP', 'TMAX', 'TMIN']].replace('NULO', np.nan)\n",
      "/tmp/ipykernel_18215/3148789802.py:40: FutureWarning: Downcasting behavior in `replace` is deprecated and will be removed in a future version. To retain the old behavior, explicitly call `result.infer_objects(copy=False)`. To opt-in to the future behavior, set `pd.set_option('future.no_silent_downcasting', True)`\n",
      "  df[['PRECIP', 'EVAP', 'TMAX', 'TMIN']] = df[['PRECIP', 'EVAP', 'TMAX', 'TMIN']].replace('NULO', np.nan)\n",
      "/tmp/ipykernel_18215/3148789802.py:40: FutureWarning: Downcasting behavior in `replace` is deprecated and will be removed in a future version. To retain the old behavior, explicitly call `result.infer_objects(copy=False)`. To opt-in to the future behavior, set `pd.set_option('future.no_silent_downcasting', True)`\n",
      "  df[['PRECIP', 'EVAP', 'TMAX', 'TMIN']] = df[['PRECIP', 'EVAP', 'TMAX', 'TMIN']].replace('NULO', np.nan)\n",
      "/tmp/ipykernel_18215/3148789802.py:40: FutureWarning: Downcasting behavior in `replace` is deprecated and will be removed in a future version. To retain the old behavior, explicitly call `result.infer_objects(copy=False)`. To opt-in to the future behavior, set `pd.set_option('future.no_silent_downcasting', True)`\n",
      "  df[['PRECIP', 'EVAP', 'TMAX', 'TMIN']] = df[['PRECIP', 'EVAP', 'TMAX', 'TMIN']].replace('NULO', np.nan)\n",
      "/tmp/ipykernel_18215/3148789802.py:40: FutureWarning: Downcasting behavior in `replace` is deprecated and will be removed in a future version. To retain the old behavior, explicitly call `result.infer_objects(copy=False)`. To opt-in to the future behavior, set `pd.set_option('future.no_silent_downcasting', True)`\n",
      "  df[['PRECIP', 'EVAP', 'TMAX', 'TMIN']] = df[['PRECIP', 'EVAP', 'TMAX', 'TMIN']].replace('NULO', np.nan)\n"
     ]
    },
    {
     "name": "stdout",
     "output_type": "stream",
     "text": [
      "Baja California Sur has 104 stations\n"
     ]
    },
    {
     "name": "stderr",
     "output_type": "stream",
     "text": [
      "/tmp/ipykernel_18215/3148789802.py:40: FutureWarning: Downcasting behavior in `replace` is deprecated and will be removed in a future version. To retain the old behavior, explicitly call `result.infer_objects(copy=False)`. To opt-in to the future behavior, set `pd.set_option('future.no_silent_downcasting', True)`\n",
      "  df[['PRECIP', 'EVAP', 'TMAX', 'TMIN']] = df[['PRECIP', 'EVAP', 'TMAX', 'TMIN']].replace('NULO', np.nan)\n",
      "/tmp/ipykernel_18215/3148789802.py:40: FutureWarning: Downcasting behavior in `replace` is deprecated and will be removed in a future version. To retain the old behavior, explicitly call `result.infer_objects(copy=False)`. To opt-in to the future behavior, set `pd.set_option('future.no_silent_downcasting', True)`\n",
      "  df[['PRECIP', 'EVAP', 'TMAX', 'TMIN']] = df[['PRECIP', 'EVAP', 'TMAX', 'TMIN']].replace('NULO', np.nan)\n",
      "/tmp/ipykernel_18215/3148789802.py:40: FutureWarning: Downcasting behavior in `replace` is deprecated and will be removed in a future version. To retain the old behavior, explicitly call `result.infer_objects(copy=False)`. To opt-in to the future behavior, set `pd.set_option('future.no_silent_downcasting', True)`\n",
      "  df[['PRECIP', 'EVAP', 'TMAX', 'TMIN']] = df[['PRECIP', 'EVAP', 'TMAX', 'TMIN']].replace('NULO', np.nan)\n",
      "/tmp/ipykernel_18215/3148789802.py:40: FutureWarning: Downcasting behavior in `replace` is deprecated and will be removed in a future version. To retain the old behavior, explicitly call `result.infer_objects(copy=False)`. To opt-in to the future behavior, set `pd.set_option('future.no_silent_downcasting', True)`\n",
      "  df[['PRECIP', 'EVAP', 'TMAX', 'TMIN']] = df[['PRECIP', 'EVAP', 'TMAX', 'TMIN']].replace('NULO', np.nan)\n",
      "/tmp/ipykernel_18215/3148789802.py:40: FutureWarning: Downcasting behavior in `replace` is deprecated and will be removed in a future version. To retain the old behavior, explicitly call `result.infer_objects(copy=False)`. To opt-in to the future behavior, set `pd.set_option('future.no_silent_downcasting', True)`\n",
      "  df[['PRECIP', 'EVAP', 'TMAX', 'TMIN']] = df[['PRECIP', 'EVAP', 'TMAX', 'TMIN']].replace('NULO', np.nan)\n",
      "/tmp/ipykernel_18215/3148789802.py:40: FutureWarning: Downcasting behavior in `replace` is deprecated and will be removed in a future version. To retain the old behavior, explicitly call `result.infer_objects(copy=False)`. To opt-in to the future behavior, set `pd.set_option('future.no_silent_downcasting', True)`\n",
      "  df[['PRECIP', 'EVAP', 'TMAX', 'TMIN']] = df[['PRECIP', 'EVAP', 'TMAX', 'TMIN']].replace('NULO', np.nan)\n",
      "/tmp/ipykernel_18215/3148789802.py:40: FutureWarning: Downcasting behavior in `replace` is deprecated and will be removed in a future version. To retain the old behavior, explicitly call `result.infer_objects(copy=False)`. To opt-in to the future behavior, set `pd.set_option('future.no_silent_downcasting', True)`\n",
      "  df[['PRECIP', 'EVAP', 'TMAX', 'TMIN']] = df[['PRECIP', 'EVAP', 'TMAX', 'TMIN']].replace('NULO', np.nan)\n",
      "/tmp/ipykernel_18215/3148789802.py:40: FutureWarning: Downcasting behavior in `replace` is deprecated and will be removed in a future version. To retain the old behavior, explicitly call `result.infer_objects(copy=False)`. To opt-in to the future behavior, set `pd.set_option('future.no_silent_downcasting', True)`\n",
      "  df[['PRECIP', 'EVAP', 'TMAX', 'TMIN']] = df[['PRECIP', 'EVAP', 'TMAX', 'TMIN']].replace('NULO', np.nan)\n",
      "/tmp/ipykernel_18215/3148789802.py:40: FutureWarning: Downcasting behavior in `replace` is deprecated and will be removed in a future version. To retain the old behavior, explicitly call `result.infer_objects(copy=False)`. To opt-in to the future behavior, set `pd.set_option('future.no_silent_downcasting', True)`\n",
      "  df[['PRECIP', 'EVAP', 'TMAX', 'TMIN']] = df[['PRECIP', 'EVAP', 'TMAX', 'TMIN']].replace('NULO', np.nan)\n",
      "/tmp/ipykernel_18215/3148789802.py:40: FutureWarning: Downcasting behavior in `replace` is deprecated and will be removed in a future version. To retain the old behavior, explicitly call `result.infer_objects(copy=False)`. To opt-in to the future behavior, set `pd.set_option('future.no_silent_downcasting', True)`\n",
      "  df[['PRECIP', 'EVAP', 'TMAX', 'TMIN']] = df[['PRECIP', 'EVAP', 'TMAX', 'TMIN']].replace('NULO', np.nan)\n",
      "/tmp/ipykernel_18215/3148789802.py:40: FutureWarning: Downcasting behavior in `replace` is deprecated and will be removed in a future version. To retain the old behavior, explicitly call `result.infer_objects(copy=False)`. To opt-in to the future behavior, set `pd.set_option('future.no_silent_downcasting', True)`\n",
      "  df[['PRECIP', 'EVAP', 'TMAX', 'TMIN']] = df[['PRECIP', 'EVAP', 'TMAX', 'TMIN']].replace('NULO', np.nan)\n",
      "/tmp/ipykernel_18215/3148789802.py:40: FutureWarning: Downcasting behavior in `replace` is deprecated and will be removed in a future version. To retain the old behavior, explicitly call `result.infer_objects(copy=False)`. To opt-in to the future behavior, set `pd.set_option('future.no_silent_downcasting', True)`\n",
      "  df[['PRECIP', 'EVAP', 'TMAX', 'TMIN']] = df[['PRECIP', 'EVAP', 'TMAX', 'TMIN']].replace('NULO', np.nan)\n",
      "/tmp/ipykernel_18215/3148789802.py:40: FutureWarning: Downcasting behavior in `replace` is deprecated and will be removed in a future version. To retain the old behavior, explicitly call `result.infer_objects(copy=False)`. To opt-in to the future behavior, set `pd.set_option('future.no_silent_downcasting', True)`\n",
      "  df[['PRECIP', 'EVAP', 'TMAX', 'TMIN']] = df[['PRECIP', 'EVAP', 'TMAX', 'TMIN']].replace('NULO', np.nan)\n",
      "/tmp/ipykernel_18215/3148789802.py:40: FutureWarning: Downcasting behavior in `replace` is deprecated and will be removed in a future version. To retain the old behavior, explicitly call `result.infer_objects(copy=False)`. To opt-in to the future behavior, set `pd.set_option('future.no_silent_downcasting', True)`\n",
      "  df[['PRECIP', 'EVAP', 'TMAX', 'TMIN']] = df[['PRECIP', 'EVAP', 'TMAX', 'TMIN']].replace('NULO', np.nan)\n",
      "/tmp/ipykernel_18215/3148789802.py:40: FutureWarning: Downcasting behavior in `replace` is deprecated and will be removed in a future version. To retain the old behavior, explicitly call `result.infer_objects(copy=False)`. To opt-in to the future behavior, set `pd.set_option('future.no_silent_downcasting', True)`\n",
      "  df[['PRECIP', 'EVAP', 'TMAX', 'TMIN']] = df[['PRECIP', 'EVAP', 'TMAX', 'TMIN']].replace('NULO', np.nan)\n",
      "/tmp/ipykernel_18215/3148789802.py:40: FutureWarning: Downcasting behavior in `replace` is deprecated and will be removed in a future version. To retain the old behavior, explicitly call `result.infer_objects(copy=False)`. To opt-in to the future behavior, set `pd.set_option('future.no_silent_downcasting', True)`\n",
      "  df[['PRECIP', 'EVAP', 'TMAX', 'TMIN']] = df[['PRECIP', 'EVAP', 'TMAX', 'TMIN']].replace('NULO', np.nan)\n",
      "/tmp/ipykernel_18215/3148789802.py:40: FutureWarning: Downcasting behavior in `replace` is deprecated and will be removed in a future version. To retain the old behavior, explicitly call `result.infer_objects(copy=False)`. To opt-in to the future behavior, set `pd.set_option('future.no_silent_downcasting', True)`\n",
      "  df[['PRECIP', 'EVAP', 'TMAX', 'TMIN']] = df[['PRECIP', 'EVAP', 'TMAX', 'TMIN']].replace('NULO', np.nan)\n",
      "/tmp/ipykernel_18215/3148789802.py:40: FutureWarning: Downcasting behavior in `replace` is deprecated and will be removed in a future version. To retain the old behavior, explicitly call `result.infer_objects(copy=False)`. To opt-in to the future behavior, set `pd.set_option('future.no_silent_downcasting', True)`\n",
      "  df[['PRECIP', 'EVAP', 'TMAX', 'TMIN']] = df[['PRECIP', 'EVAP', 'TMAX', 'TMIN']].replace('NULO', np.nan)\n",
      "/tmp/ipykernel_18215/3148789802.py:40: FutureWarning: Downcasting behavior in `replace` is deprecated and will be removed in a future version. To retain the old behavior, explicitly call `result.infer_objects(copy=False)`. To opt-in to the future behavior, set `pd.set_option('future.no_silent_downcasting', True)`\n",
      "  df[['PRECIP', 'EVAP', 'TMAX', 'TMIN']] = df[['PRECIP', 'EVAP', 'TMAX', 'TMIN']].replace('NULO', np.nan)\n",
      "/tmp/ipykernel_18215/3148789802.py:40: FutureWarning: Downcasting behavior in `replace` is deprecated and will be removed in a future version. To retain the old behavior, explicitly call `result.infer_objects(copy=False)`. To opt-in to the future behavior, set `pd.set_option('future.no_silent_downcasting', True)`\n",
      "  df[['PRECIP', 'EVAP', 'TMAX', 'TMIN']] = df[['PRECIP', 'EVAP', 'TMAX', 'TMIN']].replace('NULO', np.nan)\n",
      "/tmp/ipykernel_18215/3148789802.py:40: FutureWarning: Downcasting behavior in `replace` is deprecated and will be removed in a future version. To retain the old behavior, explicitly call `result.infer_objects(copy=False)`. To opt-in to the future behavior, set `pd.set_option('future.no_silent_downcasting', True)`\n",
      "  df[['PRECIP', 'EVAP', 'TMAX', 'TMIN']] = df[['PRECIP', 'EVAP', 'TMAX', 'TMIN']].replace('NULO', np.nan)\n",
      "/tmp/ipykernel_18215/3148789802.py:40: FutureWarning: Downcasting behavior in `replace` is deprecated and will be removed in a future version. To retain the old behavior, explicitly call `result.infer_objects(copy=False)`. To opt-in to the future behavior, set `pd.set_option('future.no_silent_downcasting', True)`\n",
      "  df[['PRECIP', 'EVAP', 'TMAX', 'TMIN']] = df[['PRECIP', 'EVAP', 'TMAX', 'TMIN']].replace('NULO', np.nan)\n",
      "/tmp/ipykernel_18215/3148789802.py:40: FutureWarning: Downcasting behavior in `replace` is deprecated and will be removed in a future version. To retain the old behavior, explicitly call `result.infer_objects(copy=False)`. To opt-in to the future behavior, set `pd.set_option('future.no_silent_downcasting', True)`\n",
      "  df[['PRECIP', 'EVAP', 'TMAX', 'TMIN']] = df[['PRECIP', 'EVAP', 'TMAX', 'TMIN']].replace('NULO', np.nan)\n",
      "/tmp/ipykernel_18215/3148789802.py:40: FutureWarning: Downcasting behavior in `replace` is deprecated and will be removed in a future version. To retain the old behavior, explicitly call `result.infer_objects(copy=False)`. To opt-in to the future behavior, set `pd.set_option('future.no_silent_downcasting', True)`\n",
      "  df[['PRECIP', 'EVAP', 'TMAX', 'TMIN']] = df[['PRECIP', 'EVAP', 'TMAX', 'TMIN']].replace('NULO', np.nan)\n",
      "/tmp/ipykernel_18215/3148789802.py:40: FutureWarning: Downcasting behavior in `replace` is deprecated and will be removed in a future version. To retain the old behavior, explicitly call `result.infer_objects(copy=False)`. To opt-in to the future behavior, set `pd.set_option('future.no_silent_downcasting', True)`\n",
      "  df[['PRECIP', 'EVAP', 'TMAX', 'TMIN']] = df[['PRECIP', 'EVAP', 'TMAX', 'TMIN']].replace('NULO', np.nan)\n",
      "/tmp/ipykernel_18215/3148789802.py:40: FutureWarning: Downcasting behavior in `replace` is deprecated and will be removed in a future version. To retain the old behavior, explicitly call `result.infer_objects(copy=False)`. To opt-in to the future behavior, set `pd.set_option('future.no_silent_downcasting', True)`\n",
      "  df[['PRECIP', 'EVAP', 'TMAX', 'TMIN']] = df[['PRECIP', 'EVAP', 'TMAX', 'TMIN']].replace('NULO', np.nan)\n",
      "/tmp/ipykernel_18215/3148789802.py:40: FutureWarning: Downcasting behavior in `replace` is deprecated and will be removed in a future version. To retain the old behavior, explicitly call `result.infer_objects(copy=False)`. To opt-in to the future behavior, set `pd.set_option('future.no_silent_downcasting', True)`\n",
      "  df[['PRECIP', 'EVAP', 'TMAX', 'TMIN']] = df[['PRECIP', 'EVAP', 'TMAX', 'TMIN']].replace('NULO', np.nan)\n",
      "/tmp/ipykernel_18215/3148789802.py:40: FutureWarning: Downcasting behavior in `replace` is deprecated and will be removed in a future version. To retain the old behavior, explicitly call `result.infer_objects(copy=False)`. To opt-in to the future behavior, set `pd.set_option('future.no_silent_downcasting', True)`\n",
      "  df[['PRECIP', 'EVAP', 'TMAX', 'TMIN']] = df[['PRECIP', 'EVAP', 'TMAX', 'TMIN']].replace('NULO', np.nan)\n",
      "/tmp/ipykernel_18215/3148789802.py:40: FutureWarning: Downcasting behavior in `replace` is deprecated and will be removed in a future version. To retain the old behavior, explicitly call `result.infer_objects(copy=False)`. To opt-in to the future behavior, set `pd.set_option('future.no_silent_downcasting', True)`\n",
      "  df[['PRECIP', 'EVAP', 'TMAX', 'TMIN']] = df[['PRECIP', 'EVAP', 'TMAX', 'TMIN']].replace('NULO', np.nan)\n",
      "/tmp/ipykernel_18215/3148789802.py:40: FutureWarning: Downcasting behavior in `replace` is deprecated and will be removed in a future version. To retain the old behavior, explicitly call `result.infer_objects(copy=False)`. To opt-in to the future behavior, set `pd.set_option('future.no_silent_downcasting', True)`\n",
      "  df[['PRECIP', 'EVAP', 'TMAX', 'TMIN']] = df[['PRECIP', 'EVAP', 'TMAX', 'TMIN']].replace('NULO', np.nan)\n",
      "/tmp/ipykernel_18215/3148789802.py:40: FutureWarning: Downcasting behavior in `replace` is deprecated and will be removed in a future version. To retain the old behavior, explicitly call `result.infer_objects(copy=False)`. To opt-in to the future behavior, set `pd.set_option('future.no_silent_downcasting', True)`\n",
      "  df[['PRECIP', 'EVAP', 'TMAX', 'TMIN']] = df[['PRECIP', 'EVAP', 'TMAX', 'TMIN']].replace('NULO', np.nan)\n",
      "/tmp/ipykernel_18215/3148789802.py:40: FutureWarning: Downcasting behavior in `replace` is deprecated and will be removed in a future version. To retain the old behavior, explicitly call `result.infer_objects(copy=False)`. To opt-in to the future behavior, set `pd.set_option('future.no_silent_downcasting', True)`\n",
      "  df[['PRECIP', 'EVAP', 'TMAX', 'TMIN']] = df[['PRECIP', 'EVAP', 'TMAX', 'TMIN']].replace('NULO', np.nan)\n",
      "/tmp/ipykernel_18215/3148789802.py:40: FutureWarning: Downcasting behavior in `replace` is deprecated and will be removed in a future version. To retain the old behavior, explicitly call `result.infer_objects(copy=False)`. To opt-in to the future behavior, set `pd.set_option('future.no_silent_downcasting', True)`\n",
      "  df[['PRECIP', 'EVAP', 'TMAX', 'TMIN']] = df[['PRECIP', 'EVAP', 'TMAX', 'TMIN']].replace('NULO', np.nan)\n",
      "/tmp/ipykernel_18215/3148789802.py:40: FutureWarning: Downcasting behavior in `replace` is deprecated and will be removed in a future version. To retain the old behavior, explicitly call `result.infer_objects(copy=False)`. To opt-in to the future behavior, set `pd.set_option('future.no_silent_downcasting', True)`\n",
      "  df[['PRECIP', 'EVAP', 'TMAX', 'TMIN']] = df[['PRECIP', 'EVAP', 'TMAX', 'TMIN']].replace('NULO', np.nan)\n",
      "/tmp/ipykernel_18215/3148789802.py:40: FutureWarning: Downcasting behavior in `replace` is deprecated and will be removed in a future version. To retain the old behavior, explicitly call `result.infer_objects(copy=False)`. To opt-in to the future behavior, set `pd.set_option('future.no_silent_downcasting', True)`\n",
      "  df[['PRECIP', 'EVAP', 'TMAX', 'TMIN']] = df[['PRECIP', 'EVAP', 'TMAX', 'TMIN']].replace('NULO', np.nan)\n",
      "/tmp/ipykernel_18215/3148789802.py:40: FutureWarning: Downcasting behavior in `replace` is deprecated and will be removed in a future version. To retain the old behavior, explicitly call `result.infer_objects(copy=False)`. To opt-in to the future behavior, set `pd.set_option('future.no_silent_downcasting', True)`\n",
      "  df[['PRECIP', 'EVAP', 'TMAX', 'TMIN']] = df[['PRECIP', 'EVAP', 'TMAX', 'TMIN']].replace('NULO', np.nan)\n"
     ]
    },
    {
     "name": "stdout",
     "output_type": "stream",
     "text": [
      "Campeche has 41 stations\n",
      "Ciudad de Mexico has 12 stations\n"
     ]
    },
    {
     "name": "stderr",
     "output_type": "stream",
     "text": [
      "/tmp/ipykernel_18215/3148789802.py:40: FutureWarning: Downcasting behavior in `replace` is deprecated and will be removed in a future version. To retain the old behavior, explicitly call `result.infer_objects(copy=False)`. To opt-in to the future behavior, set `pd.set_option('future.no_silent_downcasting', True)`\n",
      "  df[['PRECIP', 'EVAP', 'TMAX', 'TMIN']] = df[['PRECIP', 'EVAP', 'TMAX', 'TMIN']].replace('NULO', np.nan)\n",
      "/tmp/ipykernel_18215/3148789802.py:40: FutureWarning: Downcasting behavior in `replace` is deprecated and will be removed in a future version. To retain the old behavior, explicitly call `result.infer_objects(copy=False)`. To opt-in to the future behavior, set `pd.set_option('future.no_silent_downcasting', True)`\n",
      "  df[['PRECIP', 'EVAP', 'TMAX', 'TMIN']] = df[['PRECIP', 'EVAP', 'TMAX', 'TMIN']].replace('NULO', np.nan)\n"
     ]
    },
    {
     "name": "stdout",
     "output_type": "stream",
     "text": [
      "Coahuila de Zaragoza has 40 stations\n"
     ]
    },
    {
     "name": "stderr",
     "output_type": "stream",
     "text": [
      "/tmp/ipykernel_18215/3148789802.py:40: FutureWarning: Downcasting behavior in `replace` is deprecated and will be removed in a future version. To retain the old behavior, explicitly call `result.infer_objects(copy=False)`. To opt-in to the future behavior, set `pd.set_option('future.no_silent_downcasting', True)`\n",
      "  df[['PRECIP', 'EVAP', 'TMAX', 'TMIN']] = df[['PRECIP', 'EVAP', 'TMAX', 'TMIN']].replace('NULO', np.nan)\n",
      "/tmp/ipykernel_18215/3148789802.py:40: FutureWarning: Downcasting behavior in `replace` is deprecated and will be removed in a future version. To retain the old behavior, explicitly call `result.infer_objects(copy=False)`. To opt-in to the future behavior, set `pd.set_option('future.no_silent_downcasting', True)`\n",
      "  df[['PRECIP', 'EVAP', 'TMAX', 'TMIN']] = df[['PRECIP', 'EVAP', 'TMAX', 'TMIN']].replace('NULO', np.nan)\n",
      "/tmp/ipykernel_18215/3148789802.py:40: FutureWarning: Downcasting behavior in `replace` is deprecated and will be removed in a future version. To retain the old behavior, explicitly call `result.infer_objects(copy=False)`. To opt-in to the future behavior, set `pd.set_option('future.no_silent_downcasting', True)`\n",
      "  df[['PRECIP', 'EVAP', 'TMAX', 'TMIN']] = df[['PRECIP', 'EVAP', 'TMAX', 'TMIN']].replace('NULO', np.nan)\n",
      "/tmp/ipykernel_18215/3148789802.py:40: FutureWarning: Downcasting behavior in `replace` is deprecated and will be removed in a future version. To retain the old behavior, explicitly call `result.infer_objects(copy=False)`. To opt-in to the future behavior, set `pd.set_option('future.no_silent_downcasting', True)`\n",
      "  df[['PRECIP', 'EVAP', 'TMAX', 'TMIN']] = df[['PRECIP', 'EVAP', 'TMAX', 'TMIN']].replace('NULO', np.nan)\n",
      "/tmp/ipykernel_18215/3148789802.py:40: FutureWarning: Downcasting behavior in `replace` is deprecated and will be removed in a future version. To retain the old behavior, explicitly call `result.infer_objects(copy=False)`. To opt-in to the future behavior, set `pd.set_option('future.no_silent_downcasting', True)`\n",
      "  df[['PRECIP', 'EVAP', 'TMAX', 'TMIN']] = df[['PRECIP', 'EVAP', 'TMAX', 'TMIN']].replace('NULO', np.nan)\n"
     ]
    },
    {
     "name": "stdout",
     "output_type": "stream",
     "text": [
      "Colima has 57 stations\n"
     ]
    },
    {
     "name": "stderr",
     "output_type": "stream",
     "text": [
      "/tmp/ipykernel_18215/3148789802.py:40: FutureWarning: Downcasting behavior in `replace` is deprecated and will be removed in a future version. To retain the old behavior, explicitly call `result.infer_objects(copy=False)`. To opt-in to the future behavior, set `pd.set_option('future.no_silent_downcasting', True)`\n",
      "  df[['PRECIP', 'EVAP', 'TMAX', 'TMIN']] = df[['PRECIP', 'EVAP', 'TMAX', 'TMIN']].replace('NULO', np.nan)\n",
      "/tmp/ipykernel_18215/3148789802.py:40: FutureWarning: Downcasting behavior in `replace` is deprecated and will be removed in a future version. To retain the old behavior, explicitly call `result.infer_objects(copy=False)`. To opt-in to the future behavior, set `pd.set_option('future.no_silent_downcasting', True)`\n",
      "  df[['PRECIP', 'EVAP', 'TMAX', 'TMIN']] = df[['PRECIP', 'EVAP', 'TMAX', 'TMIN']].replace('NULO', np.nan)\n",
      "/tmp/ipykernel_18215/3148789802.py:40: FutureWarning: Downcasting behavior in `replace` is deprecated and will be removed in a future version. To retain the old behavior, explicitly call `result.infer_objects(copy=False)`. To opt-in to the future behavior, set `pd.set_option('future.no_silent_downcasting', True)`\n",
      "  df[['PRECIP', 'EVAP', 'TMAX', 'TMIN']] = df[['PRECIP', 'EVAP', 'TMAX', 'TMIN']].replace('NULO', np.nan)\n",
      "/tmp/ipykernel_18215/3148789802.py:40: FutureWarning: Downcasting behavior in `replace` is deprecated and will be removed in a future version. To retain the old behavior, explicitly call `result.infer_objects(copy=False)`. To opt-in to the future behavior, set `pd.set_option('future.no_silent_downcasting', True)`\n",
      "  df[['PRECIP', 'EVAP', 'TMAX', 'TMIN']] = df[['PRECIP', 'EVAP', 'TMAX', 'TMIN']].replace('NULO', np.nan)\n"
     ]
    },
    {
     "name": "stdout",
     "output_type": "stream",
     "text": [
      "Durango has 57 stations\n"
     ]
    },
    {
     "name": "stderr",
     "output_type": "stream",
     "text": [
      "/tmp/ipykernel_18215/3148789802.py:40: FutureWarning: Downcasting behavior in `replace` is deprecated and will be removed in a future version. To retain the old behavior, explicitly call `result.infer_objects(copy=False)`. To opt-in to the future behavior, set `pd.set_option('future.no_silent_downcasting', True)`\n",
      "  df[['PRECIP', 'EVAP', 'TMAX', 'TMIN']] = df[['PRECIP', 'EVAP', 'TMAX', 'TMIN']].replace('NULO', np.nan)\n",
      "/tmp/ipykernel_18215/3148789802.py:40: FutureWarning: Downcasting behavior in `replace` is deprecated and will be removed in a future version. To retain the old behavior, explicitly call `result.infer_objects(copy=False)`. To opt-in to the future behavior, set `pd.set_option('future.no_silent_downcasting', True)`\n",
      "  df[['PRECIP', 'EVAP', 'TMAX', 'TMIN']] = df[['PRECIP', 'EVAP', 'TMAX', 'TMIN']].replace('NULO', np.nan)\n",
      "/tmp/ipykernel_18215/3148789802.py:40: FutureWarning: Downcasting behavior in `replace` is deprecated and will be removed in a future version. To retain the old behavior, explicitly call `result.infer_objects(copy=False)`. To opt-in to the future behavior, set `pd.set_option('future.no_silent_downcasting', True)`\n",
      "  df[['PRECIP', 'EVAP', 'TMAX', 'TMIN']] = df[['PRECIP', 'EVAP', 'TMAX', 'TMIN']].replace('NULO', np.nan)\n",
      "/tmp/ipykernel_18215/3148789802.py:40: FutureWarning: Downcasting behavior in `replace` is deprecated and will be removed in a future version. To retain the old behavior, explicitly call `result.infer_objects(copy=False)`. To opt-in to the future behavior, set `pd.set_option('future.no_silent_downcasting', True)`\n",
      "  df[['PRECIP', 'EVAP', 'TMAX', 'TMIN']] = df[['PRECIP', 'EVAP', 'TMAX', 'TMIN']].replace('NULO', np.nan)\n",
      "/tmp/ipykernel_18215/3148789802.py:40: FutureWarning: Downcasting behavior in `replace` is deprecated and will be removed in a future version. To retain the old behavior, explicitly call `result.infer_objects(copy=False)`. To opt-in to the future behavior, set `pd.set_option('future.no_silent_downcasting', True)`\n",
      "  df[['PRECIP', 'EVAP', 'TMAX', 'TMIN']] = df[['PRECIP', 'EVAP', 'TMAX', 'TMIN']].replace('NULO', np.nan)\n",
      "/tmp/ipykernel_18215/3148789802.py:40: FutureWarning: Downcasting behavior in `replace` is deprecated and will be removed in a future version. To retain the old behavior, explicitly call `result.infer_objects(copy=False)`. To opt-in to the future behavior, set `pd.set_option('future.no_silent_downcasting', True)`\n",
      "  df[['PRECIP', 'EVAP', 'TMAX', 'TMIN']] = df[['PRECIP', 'EVAP', 'TMAX', 'TMIN']].replace('NULO', np.nan)\n",
      "/tmp/ipykernel_18215/3148789802.py:40: FutureWarning: Downcasting behavior in `replace` is deprecated and will be removed in a future version. To retain the old behavior, explicitly call `result.infer_objects(copy=False)`. To opt-in to the future behavior, set `pd.set_option('future.no_silent_downcasting', True)`\n",
      "  df[['PRECIP', 'EVAP', 'TMAX', 'TMIN']] = df[['PRECIP', 'EVAP', 'TMAX', 'TMIN']].replace('NULO', np.nan)\n",
      "/tmp/ipykernel_18215/3148789802.py:40: FutureWarning: Downcasting behavior in `replace` is deprecated and will be removed in a future version. To retain the old behavior, explicitly call `result.infer_objects(copy=False)`. To opt-in to the future behavior, set `pd.set_option('future.no_silent_downcasting', True)`\n",
      "  df[['PRECIP', 'EVAP', 'TMAX', 'TMIN']] = df[['PRECIP', 'EVAP', 'TMAX', 'TMIN']].replace('NULO', np.nan)\n",
      "/tmp/ipykernel_18215/3148789802.py:40: FutureWarning: Downcasting behavior in `replace` is deprecated and will be removed in a future version. To retain the old behavior, explicitly call `result.infer_objects(copy=False)`. To opt-in to the future behavior, set `pd.set_option('future.no_silent_downcasting', True)`\n",
      "  df[['PRECIP', 'EVAP', 'TMAX', 'TMIN']] = df[['PRECIP', 'EVAP', 'TMAX', 'TMIN']].replace('NULO', np.nan)\n",
      "/tmp/ipykernel_18215/3148789802.py:40: FutureWarning: Downcasting behavior in `replace` is deprecated and will be removed in a future version. To retain the old behavior, explicitly call `result.infer_objects(copy=False)`. To opt-in to the future behavior, set `pd.set_option('future.no_silent_downcasting', True)`\n",
      "  df[['PRECIP', 'EVAP', 'TMAX', 'TMIN']] = df[['PRECIP', 'EVAP', 'TMAX', 'TMIN']].replace('NULO', np.nan)\n",
      "/tmp/ipykernel_18215/3148789802.py:40: FutureWarning: Downcasting behavior in `replace` is deprecated and will be removed in a future version. To retain the old behavior, explicitly call `result.infer_objects(copy=False)`. To opt-in to the future behavior, set `pd.set_option('future.no_silent_downcasting', True)`\n",
      "  df[['PRECIP', 'EVAP', 'TMAX', 'TMIN']] = df[['PRECIP', 'EVAP', 'TMAX', 'TMIN']].replace('NULO', np.nan)\n",
      "/tmp/ipykernel_18215/3148789802.py:40: FutureWarning: Downcasting behavior in `replace` is deprecated and will be removed in a future version. To retain the old behavior, explicitly call `result.infer_objects(copy=False)`. To opt-in to the future behavior, set `pd.set_option('future.no_silent_downcasting', True)`\n",
      "  df[['PRECIP', 'EVAP', 'TMAX', 'TMIN']] = df[['PRECIP', 'EVAP', 'TMAX', 'TMIN']].replace('NULO', np.nan)\n",
      "/tmp/ipykernel_18215/3148789802.py:40: FutureWarning: Downcasting behavior in `replace` is deprecated and will be removed in a future version. To retain the old behavior, explicitly call `result.infer_objects(copy=False)`. To opt-in to the future behavior, set `pd.set_option('future.no_silent_downcasting', True)`\n",
      "  df[['PRECIP', 'EVAP', 'TMAX', 'TMIN']] = df[['PRECIP', 'EVAP', 'TMAX', 'TMIN']].replace('NULO', np.nan)\n"
     ]
    },
    {
     "name": "stdout",
     "output_type": "stream",
     "text": [
      "Estado de Mexico has 72 stations\n"
     ]
    },
    {
     "name": "stderr",
     "output_type": "stream",
     "text": [
      "/tmp/ipykernel_18215/3148789802.py:40: FutureWarning: Downcasting behavior in `replace` is deprecated and will be removed in a future version. To retain the old behavior, explicitly call `result.infer_objects(copy=False)`. To opt-in to the future behavior, set `pd.set_option('future.no_silent_downcasting', True)`\n",
      "  df[['PRECIP', 'EVAP', 'TMAX', 'TMIN']] = df[['PRECIP', 'EVAP', 'TMAX', 'TMIN']].replace('NULO', np.nan)\n"
     ]
    },
    {
     "name": "stdout",
     "output_type": "stream",
     "text": [
      "Guanajuato has 68 stations\n",
      "Guerrero has 69 stations\n"
     ]
    },
    {
     "name": "stderr",
     "output_type": "stream",
     "text": [
      "/tmp/ipykernel_18215/3148789802.py:40: FutureWarning: Downcasting behavior in `replace` is deprecated and will be removed in a future version. To retain the old behavior, explicitly call `result.infer_objects(copy=False)`. To opt-in to the future behavior, set `pd.set_option('future.no_silent_downcasting', True)`\n",
      "  df[['PRECIP', 'EVAP', 'TMAX', 'TMIN']] = df[['PRECIP', 'EVAP', 'TMAX', 'TMIN']].replace('NULO', np.nan)\n",
      "/tmp/ipykernel_18215/3148789802.py:40: FutureWarning: Downcasting behavior in `replace` is deprecated and will be removed in a future version. To retain the old behavior, explicitly call `result.infer_objects(copy=False)`. To opt-in to the future behavior, set `pd.set_option('future.no_silent_downcasting', True)`\n",
      "  df[['PRECIP', 'EVAP', 'TMAX', 'TMIN']] = df[['PRECIP', 'EVAP', 'TMAX', 'TMIN']].replace('NULO', np.nan)\n"
     ]
    },
    {
     "name": "stdout",
     "output_type": "stream",
     "text": [
      "Hidalgo has 51 stations\n"
     ]
    },
    {
     "name": "stderr",
     "output_type": "stream",
     "text": [
      "/tmp/ipykernel_18215/3148789802.py:40: FutureWarning: Downcasting behavior in `replace` is deprecated and will be removed in a future version. To retain the old behavior, explicitly call `result.infer_objects(copy=False)`. To opt-in to the future behavior, set `pd.set_option('future.no_silent_downcasting', True)`\n",
      "  df[['PRECIP', 'EVAP', 'TMAX', 'TMIN']] = df[['PRECIP', 'EVAP', 'TMAX', 'TMIN']].replace('NULO', np.nan)\n",
      "/tmp/ipykernel_18215/3148789802.py:40: FutureWarning: Downcasting behavior in `replace` is deprecated and will be removed in a future version. To retain the old behavior, explicitly call `result.infer_objects(copy=False)`. To opt-in to the future behavior, set `pd.set_option('future.no_silent_downcasting', True)`\n",
      "  df[['PRECIP', 'EVAP', 'TMAX', 'TMIN']] = df[['PRECIP', 'EVAP', 'TMAX', 'TMIN']].replace('NULO', np.nan)\n",
      "/tmp/ipykernel_18215/3148789802.py:40: FutureWarning: Downcasting behavior in `replace` is deprecated and will be removed in a future version. To retain the old behavior, explicitly call `result.infer_objects(copy=False)`. To opt-in to the future behavior, set `pd.set_option('future.no_silent_downcasting', True)`\n",
      "  df[['PRECIP', 'EVAP', 'TMAX', 'TMIN']] = df[['PRECIP', 'EVAP', 'TMAX', 'TMIN']].replace('NULO', np.nan)\n"
     ]
    },
    {
     "name": "stdout",
     "output_type": "stream",
     "text": [
      "Jalisco has 80 stations\n",
      "Michoacan has 30 stations\n",
      "Morelos has 31 stations\n",
      "Nayarit has 16 stations\n",
      "Nuevo Leon has 38 stations\n"
     ]
    },
    {
     "name": "stderr",
     "output_type": "stream",
     "text": [
      "/tmp/ipykernel_18215/3148789802.py:40: FutureWarning: Downcasting behavior in `replace` is deprecated and will be removed in a future version. To retain the old behavior, explicitly call `result.infer_objects(copy=False)`. To opt-in to the future behavior, set `pd.set_option('future.no_silent_downcasting', True)`\n",
      "  df[['PRECIP', 'EVAP', 'TMAX', 'TMIN']] = df[['PRECIP', 'EVAP', 'TMAX', 'TMIN']].replace('NULO', np.nan)\n"
     ]
    },
    {
     "name": "stdout",
     "output_type": "stream",
     "text": [
      "Oaxaca has 28 stations\n",
      "Puebla has 28 stations\n",
      "Queretaro de Arteaga has 16 stations\n",
      "Quintana Roo has 28 stations\n",
      "San Luis Potosi has 91 stations\n"
     ]
    },
    {
     "name": "stderr",
     "output_type": "stream",
     "text": [
      "/tmp/ipykernel_18215/3148789802.py:40: FutureWarning: Downcasting behavior in `replace` is deprecated and will be removed in a future version. To retain the old behavior, explicitly call `result.infer_objects(copy=False)`. To opt-in to the future behavior, set `pd.set_option('future.no_silent_downcasting', True)`\n",
      "  df[['PRECIP', 'EVAP', 'TMAX', 'TMIN']] = df[['PRECIP', 'EVAP', 'TMAX', 'TMIN']].replace('NULO', np.nan)\n",
      "/tmp/ipykernel_18215/3148789802.py:40: FutureWarning: Downcasting behavior in `replace` is deprecated and will be removed in a future version. To retain the old behavior, explicitly call `result.infer_objects(copy=False)`. To opt-in to the future behavior, set `pd.set_option('future.no_silent_downcasting', True)`\n",
      "  df[['PRECIP', 'EVAP', 'TMAX', 'TMIN']] = df[['PRECIP', 'EVAP', 'TMAX', 'TMIN']].replace('NULO', np.nan)\n",
      "/tmp/ipykernel_18215/3148789802.py:40: FutureWarning: Downcasting behavior in `replace` is deprecated and will be removed in a future version. To retain the old behavior, explicitly call `result.infer_objects(copy=False)`. To opt-in to the future behavior, set `pd.set_option('future.no_silent_downcasting', True)`\n",
      "  df[['PRECIP', 'EVAP', 'TMAX', 'TMIN']] = df[['PRECIP', 'EVAP', 'TMAX', 'TMIN']].replace('NULO', np.nan)\n",
      "/tmp/ipykernel_18215/3148789802.py:40: FutureWarning: Downcasting behavior in `replace` is deprecated and will be removed in a future version. To retain the old behavior, explicitly call `result.infer_objects(copy=False)`. To opt-in to the future behavior, set `pd.set_option('future.no_silent_downcasting', True)`\n",
      "  df[['PRECIP', 'EVAP', 'TMAX', 'TMIN']] = df[['PRECIP', 'EVAP', 'TMAX', 'TMIN']].replace('NULO', np.nan)\n",
      "/tmp/ipykernel_18215/3148789802.py:40: FutureWarning: Downcasting behavior in `replace` is deprecated and will be removed in a future version. To retain the old behavior, explicitly call `result.infer_objects(copy=False)`. To opt-in to the future behavior, set `pd.set_option('future.no_silent_downcasting', True)`\n",
      "  df[['PRECIP', 'EVAP', 'TMAX', 'TMIN']] = df[['PRECIP', 'EVAP', 'TMAX', 'TMIN']].replace('NULO', np.nan)\n",
      "/tmp/ipykernel_18215/3148789802.py:40: FutureWarning: Downcasting behavior in `replace` is deprecated and will be removed in a future version. To retain the old behavior, explicitly call `result.infer_objects(copy=False)`. To opt-in to the future behavior, set `pd.set_option('future.no_silent_downcasting', True)`\n",
      "  df[['PRECIP', 'EVAP', 'TMAX', 'TMIN']] = df[['PRECIP', 'EVAP', 'TMAX', 'TMIN']].replace('NULO', np.nan)\n",
      "/tmp/ipykernel_18215/3148789802.py:40: FutureWarning: Downcasting behavior in `replace` is deprecated and will be removed in a future version. To retain the old behavior, explicitly call `result.infer_objects(copy=False)`. To opt-in to the future behavior, set `pd.set_option('future.no_silent_downcasting', True)`\n",
      "  df[['PRECIP', 'EVAP', 'TMAX', 'TMIN']] = df[['PRECIP', 'EVAP', 'TMAX', 'TMIN']].replace('NULO', np.nan)\n",
      "/tmp/ipykernel_18215/3148789802.py:40: FutureWarning: Downcasting behavior in `replace` is deprecated and will be removed in a future version. To retain the old behavior, explicitly call `result.infer_objects(copy=False)`. To opt-in to the future behavior, set `pd.set_option('future.no_silent_downcasting', True)`\n",
      "  df[['PRECIP', 'EVAP', 'TMAX', 'TMIN']] = df[['PRECIP', 'EVAP', 'TMAX', 'TMIN']].replace('NULO', np.nan)\n",
      "/tmp/ipykernel_18215/3148789802.py:40: FutureWarning: Downcasting behavior in `replace` is deprecated and will be removed in a future version. To retain the old behavior, explicitly call `result.infer_objects(copy=False)`. To opt-in to the future behavior, set `pd.set_option('future.no_silent_downcasting', True)`\n",
      "  df[['PRECIP', 'EVAP', 'TMAX', 'TMIN']] = df[['PRECIP', 'EVAP', 'TMAX', 'TMIN']].replace('NULO', np.nan)\n"
     ]
    },
    {
     "name": "stdout",
     "output_type": "stream",
     "text": [
      "Sinaloa has 15 stations\n"
     ]
    },
    {
     "name": "stderr",
     "output_type": "stream",
     "text": [
      "/tmp/ipykernel_18215/3148789802.py:40: FutureWarning: Downcasting behavior in `replace` is deprecated and will be removed in a future version. To retain the old behavior, explicitly call `result.infer_objects(copy=False)`. To opt-in to the future behavior, set `pd.set_option('future.no_silent_downcasting', True)`\n",
      "  df[['PRECIP', 'EVAP', 'TMAX', 'TMIN']] = df[['PRECIP', 'EVAP', 'TMAX', 'TMIN']].replace('NULO', np.nan)\n"
     ]
    },
    {
     "name": "stdout",
     "output_type": "stream",
     "text": [
      "Sonora has 52 stations\n"
     ]
    },
    {
     "name": "stderr",
     "output_type": "stream",
     "text": [
      "/tmp/ipykernel_18215/3148789802.py:40: FutureWarning: Downcasting behavior in `replace` is deprecated and will be removed in a future version. To retain the old behavior, explicitly call `result.infer_objects(copy=False)`. To opt-in to the future behavior, set `pd.set_option('future.no_silent_downcasting', True)`\n",
      "  df[['PRECIP', 'EVAP', 'TMAX', 'TMIN']] = df[['PRECIP', 'EVAP', 'TMAX', 'TMIN']].replace('NULO', np.nan)\n",
      "/tmp/ipykernel_18215/3148789802.py:40: FutureWarning: Downcasting behavior in `replace` is deprecated and will be removed in a future version. To retain the old behavior, explicitly call `result.infer_objects(copy=False)`. To opt-in to the future behavior, set `pd.set_option('future.no_silent_downcasting', True)`\n",
      "  df[['PRECIP', 'EVAP', 'TMAX', 'TMIN']] = df[['PRECIP', 'EVAP', 'TMAX', 'TMIN']].replace('NULO', np.nan)\n",
      "/tmp/ipykernel_18215/3148789802.py:40: FutureWarning: Downcasting behavior in `replace` is deprecated and will be removed in a future version. To retain the old behavior, explicitly call `result.infer_objects(copy=False)`. To opt-in to the future behavior, set `pd.set_option('future.no_silent_downcasting', True)`\n",
      "  df[['PRECIP', 'EVAP', 'TMAX', 'TMIN']] = df[['PRECIP', 'EVAP', 'TMAX', 'TMIN']].replace('NULO', np.nan)\n",
      "/tmp/ipykernel_18215/3148789802.py:40: FutureWarning: Downcasting behavior in `replace` is deprecated and will be removed in a future version. To retain the old behavior, explicitly call `result.infer_objects(copy=False)`. To opt-in to the future behavior, set `pd.set_option('future.no_silent_downcasting', True)`\n",
      "  df[['PRECIP', 'EVAP', 'TMAX', 'TMIN']] = df[['PRECIP', 'EVAP', 'TMAX', 'TMIN']].replace('NULO', np.nan)\n",
      "/tmp/ipykernel_18215/3148789802.py:40: FutureWarning: Downcasting behavior in `replace` is deprecated and will be removed in a future version. To retain the old behavior, explicitly call `result.infer_objects(copy=False)`. To opt-in to the future behavior, set `pd.set_option('future.no_silent_downcasting', True)`\n",
      "  df[['PRECIP', 'EVAP', 'TMAX', 'TMIN']] = df[['PRECIP', 'EVAP', 'TMAX', 'TMIN']].replace('NULO', np.nan)\n"
     ]
    },
    {
     "name": "stdout",
     "output_type": "stream",
     "text": [
      "Tabasco has 27 stations\n"
     ]
    },
    {
     "name": "stderr",
     "output_type": "stream",
     "text": [
      "/tmp/ipykernel_18215/3148789802.py:40: FutureWarning: Downcasting behavior in `replace` is deprecated and will be removed in a future version. To retain the old behavior, explicitly call `result.infer_objects(copy=False)`. To opt-in to the future behavior, set `pd.set_option('future.no_silent_downcasting', True)`\n",
      "  df[['PRECIP', 'EVAP', 'TMAX', 'TMIN']] = df[['PRECIP', 'EVAP', 'TMAX', 'TMIN']].replace('NULO', np.nan)\n",
      "/tmp/ipykernel_18215/3148789802.py:40: FutureWarning: Downcasting behavior in `replace` is deprecated and will be removed in a future version. To retain the old behavior, explicitly call `result.infer_objects(copy=False)`. To opt-in to the future behavior, set `pd.set_option('future.no_silent_downcasting', True)`\n",
      "  df[['PRECIP', 'EVAP', 'TMAX', 'TMIN']] = df[['PRECIP', 'EVAP', 'TMAX', 'TMIN']].replace('NULO', np.nan)\n",
      "/tmp/ipykernel_18215/3148789802.py:40: FutureWarning: Downcasting behavior in `replace` is deprecated and will be removed in a future version. To retain the old behavior, explicitly call `result.infer_objects(copy=False)`. To opt-in to the future behavior, set `pd.set_option('future.no_silent_downcasting', True)`\n",
      "  df[['PRECIP', 'EVAP', 'TMAX', 'TMIN']] = df[['PRECIP', 'EVAP', 'TMAX', 'TMIN']].replace('NULO', np.nan)\n",
      "/tmp/ipykernel_18215/3148789802.py:40: FutureWarning: Downcasting behavior in `replace` is deprecated and will be removed in a future version. To retain the old behavior, explicitly call `result.infer_objects(copy=False)`. To opt-in to the future behavior, set `pd.set_option('future.no_silent_downcasting', True)`\n",
      "  df[['PRECIP', 'EVAP', 'TMAX', 'TMIN']] = df[['PRECIP', 'EVAP', 'TMAX', 'TMIN']].replace('NULO', np.nan)\n",
      "/tmp/ipykernel_18215/3148789802.py:40: FutureWarning: Downcasting behavior in `replace` is deprecated and will be removed in a future version. To retain the old behavior, explicitly call `result.infer_objects(copy=False)`. To opt-in to the future behavior, set `pd.set_option('future.no_silent_downcasting', True)`\n",
      "  df[['PRECIP', 'EVAP', 'TMAX', 'TMIN']] = df[['PRECIP', 'EVAP', 'TMAX', 'TMIN']].replace('NULO', np.nan)\n",
      "/tmp/ipykernel_18215/3148789802.py:40: FutureWarning: Downcasting behavior in `replace` is deprecated and will be removed in a future version. To retain the old behavior, explicitly call `result.infer_objects(copy=False)`. To opt-in to the future behavior, set `pd.set_option('future.no_silent_downcasting', True)`\n",
      "  df[['PRECIP', 'EVAP', 'TMAX', 'TMIN']] = df[['PRECIP', 'EVAP', 'TMAX', 'TMIN']].replace('NULO', np.nan)\n"
     ]
    },
    {
     "name": "stdout",
     "output_type": "stream",
     "text": [
      "Tamaulipas has 25 stations\n"
     ]
    },
    {
     "name": "stderr",
     "output_type": "stream",
     "text": [
      "/tmp/ipykernel_18215/3148789802.py:40: FutureWarning: Downcasting behavior in `replace` is deprecated and will be removed in a future version. To retain the old behavior, explicitly call `result.infer_objects(copy=False)`. To opt-in to the future behavior, set `pd.set_option('future.no_silent_downcasting', True)`\n",
      "  df[['PRECIP', 'EVAP', 'TMAX', 'TMIN']] = df[['PRECIP', 'EVAP', 'TMAX', 'TMIN']].replace('NULO', np.nan)\n"
     ]
    },
    {
     "name": "stdout",
     "output_type": "stream",
     "text": [
      "Tlaxcala has 24 stations\n",
      "Veracruz has 72 stations\n"
     ]
    },
    {
     "name": "stderr",
     "output_type": "stream",
     "text": [
      "/tmp/ipykernel_18215/3148789802.py:40: FutureWarning: Downcasting behavior in `replace` is deprecated and will be removed in a future version. To retain the old behavior, explicitly call `result.infer_objects(copy=False)`. To opt-in to the future behavior, set `pd.set_option('future.no_silent_downcasting', True)`\n",
      "  df[['PRECIP', 'EVAP', 'TMAX', 'TMIN']] = df[['PRECIP', 'EVAP', 'TMAX', 'TMIN']].replace('NULO', np.nan)\n",
      "/tmp/ipykernel_18215/3148789802.py:40: FutureWarning: Downcasting behavior in `replace` is deprecated and will be removed in a future version. To retain the old behavior, explicitly call `result.infer_objects(copy=False)`. To opt-in to the future behavior, set `pd.set_option('future.no_silent_downcasting', True)`\n",
      "  df[['PRECIP', 'EVAP', 'TMAX', 'TMIN']] = df[['PRECIP', 'EVAP', 'TMAX', 'TMIN']].replace('NULO', np.nan)\n",
      "/tmp/ipykernel_18215/3148789802.py:40: FutureWarning: Downcasting behavior in `replace` is deprecated and will be removed in a future version. To retain the old behavior, explicitly call `result.infer_objects(copy=False)`. To opt-in to the future behavior, set `pd.set_option('future.no_silent_downcasting', True)`\n",
      "  df[['PRECIP', 'EVAP', 'TMAX', 'TMIN']] = df[['PRECIP', 'EVAP', 'TMAX', 'TMIN']].replace('NULO', np.nan)\n"
     ]
    },
    {
     "name": "stdout",
     "output_type": "stream",
     "text": [
      "Yucatan has 52 stations\n",
      "Zacatecas has 68 stations\n"
     ]
    },
    {
     "name": "stderr",
     "output_type": "stream",
     "text": [
      "/tmp/ipykernel_18215/3148789802.py:40: FutureWarning: Downcasting behavior in `replace` is deprecated and will be removed in a future version. To retain the old behavior, explicitly call `result.infer_objects(copy=False)`. To opt-in to the future behavior, set `pd.set_option('future.no_silent_downcasting', True)`\n",
      "  df[['PRECIP', 'EVAP', 'TMAX', 'TMIN']] = df[['PRECIP', 'EVAP', 'TMAX', 'TMIN']].replace('NULO', np.nan)\n",
      "/tmp/ipykernel_18215/3148789802.py:40: FutureWarning: Downcasting behavior in `replace` is deprecated and will be removed in a future version. To retain the old behavior, explicitly call `result.infer_objects(copy=False)`. To opt-in to the future behavior, set `pd.set_option('future.no_silent_downcasting', True)`\n",
      "  df[['PRECIP', 'EVAP', 'TMAX', 'TMIN']] = df[['PRECIP', 'EVAP', 'TMAX', 'TMIN']].replace('NULO', np.nan)\n",
      "/tmp/ipykernel_18215/3148789802.py:40: FutureWarning: Downcasting behavior in `replace` is deprecated and will be removed in a future version. To retain the old behavior, explicitly call `result.infer_objects(copy=False)`. To opt-in to the future behavior, set `pd.set_option('future.no_silent_downcasting', True)`\n",
      "  df[['PRECIP', 'EVAP', 'TMAX', 'TMIN']] = df[['PRECIP', 'EVAP', 'TMAX', 'TMIN']].replace('NULO', np.nan)\n"
     ]
    }
   ],
   "source": [
    "id_, nombre_, estado_, municipio_, situacion_, latitud_, longitud_, altitud_ = [],[],[],[],[],[],[],[]\n",
    "for st in range(len_dir):\n",
    "\n",
    "    list_files = glob.glob(os.path.join(dir_base,'raw',list_dir[st],'*.txt'))\n",
    "    list_files = sorted(list_files)\n",
    "    list_len = len(list_files)\n",
    "    print(f'{list_dir[st]} has {list_len} stations')\n",
    "\n",
    "    for nn in range(list_len):\n",
    "\n",
    "        with open(list_files[nn], 'r', encoding='utf-8') as f:\n",
    "            lineas = f.readlines()\n",
    "\n",
    "        info_estacion = {}\n",
    "        for linea in lineas[10:19]:\n",
    "            if ':' in linea:\n",
    "                clave, valor = linea.strip().split(':', 1)\n",
    "                info_estacion[clave.strip()] = valor.strip()\n",
    "\n",
    "        id_.append(int(info_estacion['ESTACIÓN']))\n",
    "        nombre_.append(info_estacion['NOMBRE'])\n",
    "        estado_.append(info_estacion['ESTADO'])\n",
    "        municipio_.append(info_estacion['MUNICIPIO'])\n",
    "        situacion_.append(info_estacion['SITUACIÓN'])\n",
    "        latitud_.append(float(info_estacion['LATITUD'].replace(' °','')))\n",
    "        longitud_.append(float(info_estacion['LONGITUD'].replace(' °','')))\n",
    "        altitud_.append(float(info_estacion['ALTITUD'].replace(' msnm','')))\n",
    "        \n",
    "        datos_climaticos = lineas[23:]\n",
    "        datos_texto = ''.join(datos_climaticos)\n",
    "\n",
    "        df = pd.read_csv(\n",
    "            io.StringIO(datos_texto),\n",
    "            sep=r'\\s+',  # usa expresión regular para espacios\n",
    "            names=['FECHA', 'PRECIP', 'EVAP', 'TMAX', 'TMIN'],\n",
    "            parse_dates=['FECHA'],\n",
    "            date_format=lambda x: pd.to_datetime(x, format='%Y-%m-%d', errors='coerce')  # especifica el formato de fecha\n",
    "        )\n",
    "        df = df.drop([0, 1]).reset_index(drop=True)\n",
    "        df[['PRECIP', 'EVAP', 'TMAX', 'TMIN']] = df[['PRECIP', 'EVAP', 'TMAX', 'TMIN']].replace('NULO', np.nan)\n",
    "\n",
    "        if not os.path.exists(os.path.join(dir_base,'clear',list_dir[st])):\n",
    "            os.makedirs(os.path.join(dir_base,'clear',list_dir[st]))\n",
    "\n",
    "        data_out = os.path.join(dir_base,'clear',list_dir[st],list_files[nn].split('/')[-1])\n",
    "        df.to_csv(data_out,header=True,index=False)\n",
    "\n",
    "    DATA_INFO = pd.DataFrame({\n",
    "                            'Id':id_,\n",
    "                            'Nombre':nombre_,\n",
    "                            'Estado':estado_,\n",
    "                            'Municipio':municipio_,\n",
    "                            'Situacion':situacion_,\n",
    "                            'Latitud':latitud_,\n",
    "                            'Longitud':longitud_,\n",
    "                            'Altitud':altitud_\n",
    "                            })"
   ]
  },
  {
   "cell_type": "code",
   "execution_count": null,
   "id": "06b082d3",
   "metadata": {},
   "outputs": [],
   "source": []
  },
  {
   "cell_type": "code",
   "execution_count": 6,
   "id": "1b81bb24",
   "metadata": {},
   "outputs": [],
   "source": [
    "dir_out = os.path.join(dir_base,'INFO.csv')\n",
    "# DATA_INFO.to_csv(dir_out,header=True,index=False)"
   ]
  },
  {
   "cell_type": "code",
   "execution_count": null,
   "id": "a3babb50",
   "metadata": {},
   "outputs": [],
   "source": []
  },
  {
   "cell_type": "code",
   "execution_count": null,
   "id": "f2b26f24",
   "metadata": {},
   "outputs": [],
   "source": []
  },
  {
   "cell_type": "code",
   "execution_count": null,
   "id": "c9292bc8",
   "metadata": {},
   "outputs": [],
   "source": []
  },
  {
   "cell_type": "code",
   "execution_count": null,
   "id": "96dc25ca",
   "metadata": {},
   "outputs": [],
   "source": []
  },
  {
   "cell_type": "code",
   "execution_count": null,
   "id": "ee18704f",
   "metadata": {},
   "outputs": [],
   "source": []
  },
  {
   "cell_type": "code",
   "execution_count": null,
   "id": "5d213fd4",
   "metadata": {},
   "outputs": [],
   "source": []
  },
  {
   "cell_type": "code",
   "execution_count": null,
   "id": "1ef55739",
   "metadata": {},
   "outputs": [],
   "source": []
  }
 ],
 "metadata": {
  "kernelspec": {
   "display_name": "AXE",
   "language": "python",
   "name": "python3"
  },
  "language_info": {
   "codemirror_mode": {
    "name": "ipython",
    "version": 3
   },
   "file_extension": ".py",
   "mimetype": "text/x-python",
   "name": "python",
   "nbconvert_exporter": "python",
   "pygments_lexer": "ipython3",
   "version": "3.13.1"
  }
 },
 "nbformat": 4,
 "nbformat_minor": 5
}
